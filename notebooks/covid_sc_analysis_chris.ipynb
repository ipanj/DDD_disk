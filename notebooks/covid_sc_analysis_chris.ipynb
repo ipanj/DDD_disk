{
 "cells": [
  {
   "cell_type": "markdown",
   "id": "08011a20-2436-49c9-971b-62d1f8591f3d",
   "metadata": {},
   "source": [
    "# Analyzing PBMCs of Covid patients and healthy controls"
   ]
  },
  {
   "cell_type": "markdown",
   "id": "8b5d7949-e65b-4415-99b8-6358f4cd22f0",
   "metadata": {},
   "source": [
    "## Load libraries"
   ]
  },
  {
   "cell_type": "code",
   "execution_count": 1,
   "id": "ec6ebcbc-4eb8-45aa-93b0-6ad71251cc2c",
   "metadata": {},
   "outputs": [],
   "source": [
    "import scanpy as sc\n",
    "import os"
   ]
  },
  {
   "cell_type": "markdown",
   "id": "b190de7c-f34f-431a-aee0-8076882e3bf1",
   "metadata": {},
   "source": [
    "# Load the data"
   ]
  },
  {
   "cell_type": "markdown",
   "id": "2c220a3c-c149-4891-a15e-480ca27b83c8",
   "metadata": {},
   "source": [
    "Make sure we are in the correct working directory"
   ]
  },
  {
   "cell_type": "code",
   "execution_count": 2,
   "id": "3cab90c9-85dc-4530-a70a-f967aefcedf9",
   "metadata": {},
   "outputs": [
    {
     "data": {
      "text/plain": [
       "'C:\\\\Users\\\\Nastavnik\\\\S3_project\\\\DDD_disk\\\\notebooks'"
      ]
     },
     "execution_count": 2,
     "metadata": {},
     "output_type": "execute_result"
    }
   ],
   "source": [
    "os.getcwd() #get current working directory"
   ]
  },
  {
   "cell_type": "code",
   "execution_count": 3,
   "id": "30df6b20-0472-4b44-8c4b-1e1254786a79",
   "metadata": {},
   "outputs": [],
   "source": [
    "# change working directory\n",
    "os.chdir('C:\\\\Users\\\\Nastavnik\\\\S3_project\\\\DDD_disk')"
   ]
  },
  {
   "cell_type": "code",
   "execution_count": 4,
   "id": "4623cce4-eb40-4d77-8ee9-ce56c6cd8587",
   "metadata": {
    "tags": []
   },
   "outputs": [
    {
     "name": "stderr",
     "output_type": "stream",
     "text": [
      "C:\\Users\\Nastavnik\\miniconda3\\envs\\sc_analysis\\lib\\site-packages\\scanpy\\readwrite.py:281: FutureWarning: X.dtype being converted to np.float32 from float64. In the next version of anndata (0.9) conversion will not be automatic. Pass dtype explicitly to avoid this warning. Pass `AnnData(X, dtype=X.dtype, ...)` to get the future behavour.\n",
      "  adata = AnnData(\n",
      "C:\\Users\\Nastavnik\\miniconda3\\envs\\sc_analysis\\lib\\site-packages\\anndata\\_core\\anndata.py:1830: UserWarning: Variable names are not unique. To make them unique, call `.var_names_make_unique`.\n",
      "  utils.warn_names_duplicates(\"var\")\n",
      "C:\\Users\\Nastavnik\\miniconda3\\envs\\sc_analysis\\lib\\site-packages\\scanpy\\readwrite.py:281: FutureWarning: X.dtype being converted to np.float32 from float64. In the next version of anndata (0.9) conversion will not be automatic. Pass dtype explicitly to avoid this warning. Pass `AnnData(X, dtype=X.dtype, ...)` to get the future behavour.\n",
      "  adata = AnnData(\n",
      "C:\\Users\\Nastavnik\\miniconda3\\envs\\sc_analysis\\lib\\site-packages\\anndata\\_core\\anndata.py:1830: UserWarning: Variable names are not unique. To make them unique, call `.var_names_make_unique`.\n",
      "  utils.warn_names_duplicates(\"var\")\n",
      "C:\\Users\\Nastavnik\\miniconda3\\envs\\sc_analysis\\lib\\site-packages\\scanpy\\readwrite.py:281: FutureWarning: X.dtype being converted to np.float32 from float64. In the next version of anndata (0.9) conversion will not be automatic. Pass dtype explicitly to avoid this warning. Pass `AnnData(X, dtype=X.dtype, ...)` to get the future behavour.\n",
      "  adata = AnnData(\n",
      "C:\\Users\\Nastavnik\\miniconda3\\envs\\sc_analysis\\lib\\site-packages\\anndata\\_core\\anndata.py:1830: UserWarning: Variable names are not unique. To make them unique, call `.var_names_make_unique`.\n",
      "  utils.warn_names_duplicates(\"var\")\n",
      "C:\\Users\\Nastavnik\\miniconda3\\envs\\sc_analysis\\lib\\site-packages\\scanpy\\readwrite.py:281: FutureWarning: X.dtype being converted to np.float32 from float64. In the next version of anndata (0.9) conversion will not be automatic. Pass dtype explicitly to avoid this warning. Pass `AnnData(X, dtype=X.dtype, ...)` to get the future behavour.\n",
      "  adata = AnnData(\n",
      "C:\\Users\\Nastavnik\\miniconda3\\envs\\sc_analysis\\lib\\site-packages\\anndata\\_core\\anndata.py:1830: UserWarning: Variable names are not unique. To make them unique, call `.var_names_make_unique`.\n",
      "  utils.warn_names_duplicates(\"var\")\n",
      "C:\\Users\\Nastavnik\\miniconda3\\envs\\sc_analysis\\lib\\site-packages\\scanpy\\readwrite.py:281: FutureWarning: X.dtype being converted to np.float32 from float64. In the next version of anndata (0.9) conversion will not be automatic. Pass dtype explicitly to avoid this warning. Pass `AnnData(X, dtype=X.dtype, ...)` to get the future behavour.\n",
      "  adata = AnnData(\n",
      "C:\\Users\\Nastavnik\\miniconda3\\envs\\sc_analysis\\lib\\site-packages\\anndata\\_core\\anndata.py:1830: UserWarning: Variable names are not unique. To make them unique, call `.var_names_make_unique`.\n",
      "  utils.warn_names_duplicates(\"var\")\n",
      "C:\\Users\\Nastavnik\\miniconda3\\envs\\sc_analysis\\lib\\site-packages\\scanpy\\readwrite.py:281: FutureWarning: X.dtype being converted to np.float32 from float64. In the next version of anndata (0.9) conversion will not be automatic. Pass dtype explicitly to avoid this warning. Pass `AnnData(X, dtype=X.dtype, ...)` to get the future behavour.\n",
      "  adata = AnnData(\n",
      "C:\\Users\\Nastavnik\\miniconda3\\envs\\sc_analysis\\lib\\site-packages\\anndata\\_core\\anndata.py:1830: UserWarning: Variable names are not unique. To make them unique, call `.var_names_make_unique`.\n",
      "  utils.warn_names_duplicates(\"var\")\n"
     ]
    }
   ],
   "source": [
    "# Load count matrices for all samples (cells by genes)\n",
    "adata_cov1 = sc.read_10x_h5(\"data/nCoV_PBMC_1.h5\")\n",
    "adata_cov2 = sc.read_10x_h5(\"data/nCoV_PBMC_15.h5\")\n",
    "adata_cov3 = sc.read_10x_h5(\"data/nCoV_PBMC_17.h5\")\n",
    "adata_norm1 = sc.read_10x_h5(\"data/Normal_PBMC_13.h5\")\n",
    "adata_norm2 = sc.read_10x_h5(\"data/Normal_PBMC_14.h5\")\n",
    "adata_norm3 = sc.read_10x_h5(\"data/Normal_PBMC_5.h5\")"
   ]
  },
  {
   "cell_type": "code",
   "execution_count": 5,
   "id": "27916cec-f1fd-4f92-877c-9f867951148f",
   "metadata": {},
   "outputs": [],
   "source": [
    "# Make variable names (gene names) unique\n",
    "adata_cov1.var_names_make_unique()\n",
    "adata_cov2.var_names_make_unique()\n",
    "adata_cov3.var_names_make_unique()\n",
    "adata_norm1.var_names_make_unique()\n",
    "adata_norm2.var_names_make_unique()\n",
    "adata_norm3.var_names_make_unique()"
   ]
  },
  {
   "cell_type": "code",
   "execution_count": 6,
   "id": "43970d7b-ed83-4bfe-a065-40a41eec690c",
   "metadata": {},
   "outputs": [],
   "source": [
    "adata_cov1.obs[\"sample\"] = \"cov1\"\n",
    "adata_cov2.obs[\"sample\"] = \"cov2\"\n",
    "adata_cov3.obs[\"sample\"] = \"cov3\"\n",
    "adata_norm1.obs[\"sample\"] = \"norm1\"\n",
    "adata_norm2.obs[\"sample\"] = \"norm2\"\n",
    "adata_norm3.obs[\"sample\"] = \"norm3\""
   ]
  },
  {
   "cell_type": "code",
   "execution_count": 7,
   "id": "961f1e2e-f672-465d-bd11-16e326f3a799",
   "metadata": {},
   "outputs": [],
   "source": [
    "adata_cov1.obs[\"condition\"] = \"covid\"\n",
    "adata_cov2.obs[\"condition\"] = \"covid\"\n",
    "adata_cov3.obs[\"condition\"] = \"covid\"\n",
    "adata_norm1.obs[\"condition\"] = \"control\"\n",
    "adata_norm2.obs[\"condition\"] = \"control\"\n",
    "adata_norm3.obs[\"condition\"] = \"control\""
   ]
  },
  {
   "cell_type": "markdown",
   "id": "205851bd-09fc-43f8-bd99-0149f2b310e6",
   "metadata": {},
   "source": [
    "Concatenate all objects (combine adata objects into one)"
   ]
  },
  {
   "cell_type": "code",
   "execution_count": 8,
   "id": "05445ef9-7caf-4419-8b69-48375471c434",
   "metadata": {},
   "outputs": [
    {
     "name": "stderr",
     "output_type": "stream",
     "text": [
      "C:\\Users\\Nastavnik\\miniconda3\\envs\\sc_analysis\\lib\\site-packages\\anndata\\_core\\anndata.py:1785: FutureWarning: X.dtype being converted to np.float32 from float64. In the next version of anndata (0.9) conversion will not be automatic. Pass dtype explicitly to avoid this warning. Pass `AnnData(X, dtype=X.dtype, ...)` to get the future behavour.\n",
      "  [AnnData(sparse.csr_matrix(a.shape), obs=a.obs) for a in all_adatas],\n"
     ]
    }
   ],
   "source": [
    "adata = adata_cov1.concatenate(adata_cov2, adata_cov3,\n",
    "                      adata_norm1, adata_norm2,\n",
    "                      adata_norm3)"
   ]
  },
  {
   "cell_type": "code",
   "execution_count": 10,
   "id": "56bb70c8-857c-4cc2-942a-d08c3f077ace",
   "metadata": {},
   "outputs": [
    {
     "data": {
      "text/plain": [
       "AnnData object with n_obs × n_vars = 9000 × 33538\n",
       "    obs: 'sample', 'condition', 'batch'\n",
       "    var: 'gene_ids', 'feature_types', 'genome'"
      ]
     },
     "execution_count": 10,
     "metadata": {},
     "output_type": "execute_result"
    }
   ],
   "source": [
    "adata"
   ]
  },
  {
   "cell_type": "code",
   "execution_count": null,
   "id": "566be58a-eed3-4688-b2e9-77e51100f367",
   "metadata": {},
   "outputs": [],
   "source": []
  }
 ],
 "metadata": {
  "kernelspec": {
   "display_name": "Python 3 (ipykernel)",
   "language": "python",
   "name": "python3"
  },
  "language_info": {
   "codemirror_mode": {
    "name": "ipython",
    "version": 3
   },
   "file_extension": ".py",
   "mimetype": "text/x-python",
   "name": "python",
   "nbconvert_exporter": "python",
   "pygments_lexer": "ipython3",
   "version": "3.10.5"
  }
 },
 "nbformat": 4,
 "nbformat_minor": 5
}
