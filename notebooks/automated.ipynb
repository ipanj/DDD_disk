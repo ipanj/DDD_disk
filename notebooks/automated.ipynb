{
 "cells": [
  {
   "cell_type": "markdown",
   "id": "08011a20-2436-49c9-971b-62d1f8591f3d",
   "metadata": {},
   "source": [
    "# Analyzing PBMCs of Covid patients and healthy controls"
   ]
  },
  {
   "cell_type": "markdown",
   "id": "8b5d7949-e65b-4415-99b8-6358f4cd22f0",
   "metadata": {},
   "source": [
    "## Load libraries"
   ]
  },
  {
   "cell_type": "code",
   "execution_count": 177,
   "id": "ec6ebcbc-4eb8-45aa-93b0-6ad71251cc2c",
   "metadata": {},
   "outputs": [],
   "source": [
    "import scanpy as sc\n",
    "import os\n",
    "import numpy as np\n",
    "import pandas as pd\n",
    "import seaborn as sb\n",
    "import matplotlib.pyplot as plt"
   ]
  },
  {
   "cell_type": "markdown",
   "id": "b190de7c-f34f-431a-aee0-8076882e3bf1",
   "metadata": {
    "tags": []
   },
   "source": [
    "## Load the data"
   ]
  },
  {
   "cell_type": "markdown",
   "id": "2c220a3c-c149-4891-a15e-480ca27b83c8",
   "metadata": {},
   "source": [
    "Make sure we are in the correct working directory"
   ]
  },
  {
   "cell_type": "code",
   "execution_count": 178,
   "id": "3cab90c9-85dc-4530-a70a-f967aefcedf9",
   "metadata": {},
   "outputs": [
    {
     "data": {
      "text/plain": [
       "'C:\\\\Users\\\\bende\\\\Documents\\\\S3++_project\\\\DDD_disk'"
      ]
     },
     "execution_count": 178,
     "metadata": {},
     "output_type": "execute_result"
    }
   ],
   "source": [
    "os.getcwd() #get current working directory"
   ]
  },
  {
   "cell_type": "code",
   "execution_count": 179,
   "id": "30df6b20-0472-4b44-8c4b-1e1254786a79",
   "metadata": {},
   "outputs": [],
   "source": [
    "# change working directory\n",
    "os.chdir('C:\\\\Users\\\\bende\\\\Documents\\\\S3++_project\\\\DDD_disk')"
   ]
  },
  {
   "cell_type": "code",
   "execution_count": 180,
   "id": "4623cce4-eb40-4d77-8ee9-ce56c6cd8587",
   "metadata": {
    "tags": []
   },
   "outputs": [
    {
     "name": "stderr",
     "output_type": "stream",
     "text": [
      "C:\\Users\\bende\\miniconda3\\envs\\sc_analysis\\lib\\site-packages\\scanpy\\readwrite.py:281: FutureWarning: X.dtype being converted to np.float32 from float64. In the next version of anndata (0.9) conversion will not be automatic. Pass dtype explicitly to avoid this warning. Pass `AnnData(X, dtype=X.dtype, ...)` to get the future behavour.\n",
      "  adata = AnnData(\n",
      "C:\\Users\\bende\\miniconda3\\envs\\sc_analysis\\lib\\site-packages\\anndata\\_core\\anndata.py:1830: UserWarning: Variable names are not unique. To make them unique, call `.var_names_make_unique`.\n",
      "  utils.warn_names_duplicates(\"var\")\n",
      "C:\\Users\\bende\\miniconda3\\envs\\sc_analysis\\lib\\site-packages\\scanpy\\readwrite.py:281: FutureWarning: X.dtype being converted to np.float32 from float64. In the next version of anndata (0.9) conversion will not be automatic. Pass dtype explicitly to avoid this warning. Pass `AnnData(X, dtype=X.dtype, ...)` to get the future behavour.\n",
      "  adata = AnnData(\n",
      "C:\\Users\\bende\\miniconda3\\envs\\sc_analysis\\lib\\site-packages\\anndata\\_core\\anndata.py:1830: UserWarning: Variable names are not unique. To make them unique, call `.var_names_make_unique`.\n",
      "  utils.warn_names_duplicates(\"var\")\n",
      "C:\\Users\\bende\\miniconda3\\envs\\sc_analysis\\lib\\site-packages\\scanpy\\readwrite.py:281: FutureWarning: X.dtype being converted to np.float32 from float64. In the next version of anndata (0.9) conversion will not be automatic. Pass dtype explicitly to avoid this warning. Pass `AnnData(X, dtype=X.dtype, ...)` to get the future behavour.\n",
      "  adata = AnnData(\n",
      "C:\\Users\\bende\\miniconda3\\envs\\sc_analysis\\lib\\site-packages\\anndata\\_core\\anndata.py:1830: UserWarning: Variable names are not unique. To make them unique, call `.var_names_make_unique`.\n",
      "  utils.warn_names_duplicates(\"var\")\n",
      "C:\\Users\\bende\\miniconda3\\envs\\sc_analysis\\lib\\site-packages\\scanpy\\readwrite.py:281: FutureWarning: X.dtype being converted to np.float32 from float64. In the next version of anndata (0.9) conversion will not be automatic. Pass dtype explicitly to avoid this warning. Pass `AnnData(X, dtype=X.dtype, ...)` to get the future behavour.\n",
      "  adata = AnnData(\n",
      "C:\\Users\\bende\\miniconda3\\envs\\sc_analysis\\lib\\site-packages\\anndata\\_core\\anndata.py:1830: UserWarning: Variable names are not unique. To make them unique, call `.var_names_make_unique`.\n",
      "  utils.warn_names_duplicates(\"var\")\n",
      "C:\\Users\\bende\\miniconda3\\envs\\sc_analysis\\lib\\site-packages\\scanpy\\readwrite.py:281: FutureWarning: X.dtype being converted to np.float32 from float64. In the next version of anndata (0.9) conversion will not be automatic. Pass dtype explicitly to avoid this warning. Pass `AnnData(X, dtype=X.dtype, ...)` to get the future behavour.\n",
      "  adata = AnnData(\n",
      "C:\\Users\\bende\\miniconda3\\envs\\sc_analysis\\lib\\site-packages\\anndata\\_core\\anndata.py:1830: UserWarning: Variable names are not unique. To make them unique, call `.var_names_make_unique`.\n",
      "  utils.warn_names_duplicates(\"var\")\n",
      "C:\\Users\\bende\\miniconda3\\envs\\sc_analysis\\lib\\site-packages\\scanpy\\readwrite.py:281: FutureWarning: X.dtype being converted to np.float32 from float64. In the next version of anndata (0.9) conversion will not be automatic. Pass dtype explicitly to avoid this warning. Pass `AnnData(X, dtype=X.dtype, ...)` to get the future behavour.\n",
      "  adata = AnnData(\n",
      "C:\\Users\\bende\\miniconda3\\envs\\sc_analysis\\lib\\site-packages\\anndata\\_core\\anndata.py:1830: UserWarning: Variable names are not unique. To make them unique, call `.var_names_make_unique`.\n",
      "  utils.warn_names_duplicates(\"var\")\n"
     ]
    }
   ],
   "source": [
    "# Load count matrices for all samples (cells by genes)\n",
    "adata_cov1 = sc.read_10x_h5(\"data/nCoV_PBMC_1.h5\")\n",
    "adata_cov2 = sc.read_10x_h5(\"data/nCoV_PBMC_15.h5\")\n",
    "adata_cov3 = sc.read_10x_h5(\"data/nCoV_PBMC_17.h5\")\n",
    "adata_norm1 = sc.read_10x_h5(\"data/Normal_PBMC_13.h5\")\n",
    "adata_norm2 = sc.read_10x_h5(\"data/Normal_PBMC_14.h5\")\n",
    "adata_norm3 = sc.read_10x_h5(\"data/Normal_PBMC_5.h5\")"
   ]
  },
  {
   "cell_type": "code",
   "execution_count": 181,
   "id": "b7f4d527-aa98-4573-ab04-4afe926ce3c2",
   "metadata": {},
   "outputs": [],
   "source": [
    "sample_list = [adata_cov1, adata_cov2, adata_cov3, adata_norm1, adata_norm2, adata_norm3]"
   ]
  },
  {
   "cell_type": "code",
   "execution_count": 182,
   "id": "27916cec-f1fd-4f92-877c-9f867951148f",
   "metadata": {},
   "outputs": [],
   "source": [
    "for i in sample_list:\n",
    "    i.var_names_make_unique"
   ]
  },
  {
   "cell_type": "code",
   "execution_count": 183,
   "id": "43970d7b-ed83-4bfe-a065-40a41eec690c",
   "metadata": {},
   "outputs": [],
   "source": [
    "adata_cov1.obs[\"sample\"] = \"cov1\"\n",
    "adata_cov2.obs[\"sample\"] = \"cov2\"\n",
    "adata_cov3.obs[\"sample\"] = \"cov3\"\n",
    "adata_norm1.obs[\"sample\"] = \"norm1\"\n",
    "adata_norm2.obs[\"sample\"] = \"norm2\"\n",
    "adata_norm3.obs[\"sample\"] = \"norm3\""
   ]
  },
  {
   "cell_type": "code",
   "execution_count": 184,
   "id": "961f1e2e-f672-465d-bd11-16e326f3a799",
   "metadata": {},
   "outputs": [],
   "source": [
    "adata_cov1.obs[\"condition\"] = \"covid\"\n",
    "adata_cov2.obs[\"condition\"] = \"covid\"\n",
    "adata_cov3.obs[\"condition\"] = \"covid\"\n",
    "adata_norm1.obs[\"condition\"] = \"control\"\n",
    "adata_norm2.obs[\"condition\"] = \"control\"\n",
    "adata_norm3.obs[\"condition\"] = \"control\""
   ]
  },
  {
   "cell_type": "markdown",
   "id": "205851bd-09fc-43f8-bd99-0149f2b310e6",
   "metadata": {},
   "source": [
    "Concatenate all objects (combine adata objects into one)"
   ]
  },
  {
   "cell_type": "markdown",
   "id": "76a796eb-4a39-47e5-abba-a37f4b405945",
   "metadata": {},
   "source": [
    "## QC"
   ]
  },
  {
   "cell_type": "markdown",
   "id": "9e4ae7d4-db5a-4c19-8c39-f4825a9ee35c",
   "metadata": {
    "toc-hr-collapsed": true
   },
   "source": [
    "### recording count depth, gene number and mitchondrial fraction"
   ]
  },
  {
   "cell_type": "code",
   "execution_count": 185,
   "id": "55a3988c-ad15-4f83-8ca8-3eac9aec5d87",
   "metadata": {},
   "outputs": [],
   "source": [
    "# Quality control - calculate QC covariates\n",
    "for i in sample_list:\n",
    "    i.obs['n_counts'] = i.X.sum(1)\n",
    "    i.obs['log_counts'] = np.log(i.obs['n_counts'])\n",
    "    i.obs['n_genes'] = (i.X > 0).sum(1)\n",
    "    i.obs['log_genes'] = np.log(i.obs['n_genes'])"
   ]
  },
  {
   "cell_type": "code",
   "execution_count": 186,
   "id": "852fb7cd-5d72-41e0-92bf-151e10d99bdc",
   "metadata": {},
   "outputs": [],
   "source": [
    "for i in sample_list:\n",
    "    mt_gene_mask = [gene.startswith('MT-') for gene in i.var_names]\n",
    "    i.X = i.X.toarray()\n",
    "    i.obs['mt_frac'] = i.X[:, mt_gene_mask].sum(1)/i.obs['n_counts']"
   ]
  },
  {
   "cell_type": "code",
   "execution_count": 187,
   "id": "6d631e7a-8ff4-4678-8dda-b0e360cf4adb",
   "metadata": {},
   "outputs": [
    {
     "data": {
      "text/plain": [
       "\"# Filter cells according to identified QC thresholds:\\nprint('Total number of cells: {:d}'.format(adata.n_obs))\\n\\nsc.pp.filter_cells(adata, min_counts = 1500)\\nprint('Number of cells after min count filter: {:d}'.format(adata.n_obs))\\n\\nsc.pp.filter_cells(adata, max_counts = 40000)\\nprint('Number of cells after max count filter: {:d}'.format(adata.n_obs))\\n\\nadata = adata[adata.obs['mt_frac'] < 0.2]\\nprint('Number of cells after MT filter: {:d}'.format(adata.n_obs))\\n\\nsc.pp.filter_cells(adata, min_genes = 700)\\nprint('Number of cells after gene filter: {:d}'.format(adata.n_obs))\""
      ]
     },
     "execution_count": 187,
     "metadata": {},
     "output_type": "execute_result"
    }
   ],
   "source": [
    "\"\"\"# Filter cells according to identified QC thresholds:\n",
    "print('Total number of cells: {:d}'.format(adata.n_obs))\n",
    "\n",
    "sc.pp.filter_cells(adata, min_counts = 1500)\n",
    "print('Number of cells after min count filter: {:d}'.format(adata.n_obs))\n",
    "\n",
    "sc.pp.filter_cells(adata, max_counts = 40000)\n",
    "print('Number of cells after max count filter: {:d}'.format(adata.n_obs))\n",
    "\n",
    "adata = adata[adata.obs['mt_frac'] < 0.2]\n",
    "print('Number of cells after MT filter: {:d}'.format(adata.n_obs))\n",
    "\n",
    "sc.pp.filter_cells(adata, min_genes = 700)\n",
    "print('Number of cells after gene filter: {:d}'.format(adata.n_obs))\"\"\""
   ]
  },
  {
   "cell_type": "code",
   "execution_count": 188,
   "id": "2ecbba6d-1b24-4b59-9917-f1295fca9962",
   "metadata": {},
   "outputs": [],
   "source": [
    "#sc.pp.filter_cells(adata, min_counts = np.median(adata.obs['n_counts']) - 3 * np.median(np.absolute(adata.obs['n_counts'] - np.median(adata.obs['n_counts']))))"
   ]
  },
  {
   "cell_type": "code",
   "execution_count": 189,
   "id": "f4f14dd1-66b3-4c4b-81b4-bc3fa9e3a380",
   "metadata": {},
   "outputs": [
    {
     "data": {
      "text/plain": [
       "3337.0"
      ]
     },
     "execution_count": 189,
     "metadata": {},
     "output_type": "execute_result"
    }
   ],
   "source": [
    "np.median(adata_cov1.obs['n_counts'])"
   ]
  },
  {
   "cell_type": "code",
   "execution_count": 190,
   "id": "322709fa-0761-44d8-83ee-71019743797a",
   "metadata": {},
   "outputs": [
    {
     "data": {
      "text/plain": [
       "2463.0"
      ]
     },
     "execution_count": 190,
     "metadata": {},
     "output_type": "execute_result"
    }
   ],
   "source": [
    "np.median(np.absolute(adata_cov1.obs['n_counts'] - np.median(adata_cov1.obs['n_counts'])))"
   ]
  },
  {
   "cell_type": "code",
   "execution_count": 191,
   "id": "48db0aa1-07cc-47cf-9753-0b467351a814",
   "metadata": {},
   "outputs": [],
   "source": [
    "def determine_threshold (adata, n = 3, mode = 'mad', min = True, max = True):\n",
    "    if mode == 'mad':\n",
    "        if min:\n",
    "            min_threshold = np.median(adata.obs['log_counts']) - n * np.median(np.absolute(adata.obs['log_counts'] - np.median(adata.obs['log_counts'])))\n",
    "        if max:\n",
    "            max_threshold = np.median(adata.obs['log_counts']) + n * np.median(np.absolute(adata.obs['log_counts'] - np.median(adata.obs['log_counts'])))\n",
    "        return min_threshold, max_threshold"
   ]
  },
  {
   "cell_type": "code",
   "execution_count": 192,
   "id": "445f1103-2bf5-41cd-a590-97ade43a8dd9",
   "metadata": {},
   "outputs": [
    {
     "name": "stdout",
     "output_type": "stream",
     "text": [
      "5.4027628898620605\n",
      "9.788506031036377\n"
     ]
    }
   ],
   "source": [
    "for i in determine_threshold(adata_cov2, n = 2):\n",
    "    print(i)"
   ]
  },
  {
   "cell_type": "code",
   "execution_count": 193,
   "id": "1815ca8d-2c59-4431-bc23-92a9186ab2a0",
   "metadata": {},
   "outputs": [
    {
     "name": "stderr",
     "output_type": "stream",
     "text": [
      "C:\\Users\\bende\\miniconda3\\envs\\sc_analysis\\lib\\site-packages\\seaborn\\distributions.py:2619: FutureWarning: `distplot` is a deprecated function and will be removed in a future version. Please adapt your code to use either `displot` (a figure-level function with similar flexibility) or `histplot` (an axes-level function for histograms).\n",
      "  warnings.warn(msg, FutureWarning)\n"
     ]
    },
    {
     "data": {
      "text/plain": [
       "<function matplotlib.pyplot.show(close=None, block=None)>"
      ]
     },
     "execution_count": 193,
     "metadata": {},
     "output_type": "execute_result"
    },
    {
     "data": {
      "image/png": "[encoded data removed]",
      "text/plain": [
       "<Figure size 432x288 with 1 Axes>"
      ]
     },
     "metadata": {
      "needs_background": "light"
     },
     "output_type": "display_data"
    }
   ],
   "source": [
    "p6 = sb.distplot (adata_cov1.obs['log_counts'], kde = False)\n",
    "plt.show"
   ]
  },
  {
   "cell_type": "code",
   "execution_count": 194,
   "id": "dd0e4a80-f191-49cf-bd58-b31697c61beb",
   "metadata": {},
   "outputs": [
    {
     "data": {
      "text/plain": [
       "204.71974003555937"
      ]
     },
     "execution_count": 194,
     "metadata": {},
     "output_type": "execute_result"
    }
   ],
   "source": [
    "np.exp(5.32164192199707)"
   ]
  },
  {
   "cell_type": "code",
   "execution_count": 195,
   "id": "06026157-06da-487c-aae8-91bbbaf93584",
   "metadata": {},
   "outputs": [
    {
     "data": {
      "text/plain": [
       "205.0"
      ]
     },
     "execution_count": 195,
     "metadata": {},
     "output_type": "execute_result"
    }
   ],
   "source": [
    "min(adata_cov1.obs['n_counts'])"
   ]
  },
  {
   "cell_type": "code",
   "execution_count": 196,
   "id": "719edc8f-017f-46c9-b09c-a67437698e4c",
   "metadata": {},
   "outputs": [
    {
     "data": {
      "text/plain": [
       "54394.1929581709"
      ]
     },
     "execution_count": 196,
     "metadata": {},
     "output_type": "execute_result"
    }
   ],
   "source": [
    "np.exp(10.904012680053711)"
   ]
  },
  {
   "cell_type": "code",
   "execution_count": 197,
   "id": "98f2ecc6-9d24-4158-a7d2-c425e8102111",
   "metadata": {},
   "outputs": [
    {
     "data": {
      "text/plain": [
       "1295"
      ]
     },
     "execution_count": 197,
     "metadata": {},
     "output_type": "execute_result"
    }
   ],
   "source": [
    "sum(adata_cov3.obs['mt_frac'] < 0.2)"
   ]
  },
  {
   "cell_type": "code",
   "execution_count": 202,
   "id": "c77c94b0-c4e1-4d3e-9720-218c0d1b872b",
   "metadata": {},
   "outputs": [],
   "source": [
    "def qc_count (adata, min = True, max = True, mt = False, max_mt_frac = None, n = 3):\n",
    "    if min:\n",
    "        min_value = determine_threshold(adata, n = n)[0]\n",
    "        print(min_value)\n",
    "        print(np.exp(min_value))\n",
    "        adata = adata[adata.obs['log_counts'] > min_value, :]\n",
    "        print (adata.shape)\n",
    "    if max:\n",
    "        max_value = determine_threshold(adata, n = n)[1]\n",
    "        print(max_value)\n",
    "        print(np.exp(max_value))\n",
    "        adata = adata[adata.obs['log_counts'] < max_value, :]\n",
    "        print (adata.shape)\n",
    "    if mt:\n",
    "        adata = adata[adata.obs['mt_frac'] < max_mt_frac, :]\n",
    "        print (adata.shape)\n",
    "    return adata"
   ]
  },
  {
   "cell_type": "code",
   "execution_count": 203,
   "id": "241bea5b-320c-41a5-b2fa-a693cbf105e5",
   "metadata": {},
   "outputs": [
    {
     "data": {
      "text/plain": [
       "\"def qc_count2 (adata, min, max = None, mt = False, max_mt_frac = None, n = 3):\\n    if min:\\n        adata = adata[adata.obs['log_counts'] > min_value, :]\\n        print (adata.shape)\\n    if max:\\n        adata = adata[adata.obs['log_counts'] < max_value, :]\\n        print (adata.shape)\\n    if mt:\\n        adata = adata[adata.obs['mt_frac'] < max_mt_frac, :]\\n        print (adata.shape)\\n    return adata\""
      ]
     },
     "execution_count": 203,
     "metadata": {},
     "output_type": "execute_result"
    }
   ],
   "source": [
    "\"\"\"def qc_count2 (adata, min, max = None, mt = False, max_mt_frac = None, n = 3):\n",
    "    if min:\n",
    "        adata = adata[adata.obs['log_counts'] > min_value, :]\n",
    "        print (adata.shape)\n",
    "    if max:\n",
    "        adata = adata[adata.obs['log_counts'] < max_value, :]\n",
    "        print (adata.shape)\n",
    "    if mt:\n",
    "        adata = adata[adata.obs['mt_frac'] < max_mt_frac, :]\n",
    "        print (adata.shape)\n",
    "    return adata\"\"\""
   ]
  },
  {
   "cell_type": "code",
   "execution_count": 204,
   "id": "fdb5f0f6-a451-4062-a346-67ddc73591a6",
   "metadata": {},
   "outputs": [
    {
     "name": "stdout",
     "output_type": "stream",
     "text": [
      "5.4027628898620605\n",
      "222.01898358534396\n",
      "(1490, 33538)\n",
      "9.7887544631958\n",
      "17832.081815723563\n",
      "(1370, 33538)\n",
      "(961, 33538)\n"
     ]
    },
    {
     "data": {
      "text/plain": [
       "View of AnnData object with n_obs × n_vars = 961 × 33538\n",
       "    obs: 'sample', 'condition', 'n_counts', 'log_counts', 'n_genes', 'log_genes', 'mt_frac'\n",
       "    var: 'gene_ids', 'feature_types', 'genome'"
      ]
     },
     "execution_count": 204,
     "metadata": {},
     "output_type": "execute_result"
    }
   ],
   "source": [
    "qc_count (adata_cov2, n=2,\n",
    "          mt = True, max_mt_frac = 0.2)"
   ]
  },
  {
   "cell_type": "code",
   "execution_count": 205,
   "id": "a36b0e2e-7c36-452a-bfdd-96bad827abe7",
   "metadata": {},
   "outputs": [
    {
     "data": {
      "text/plain": [
       "'qc_count2 (adata_cov2,\\n          determine_threshold(adata, n = 2)[0],\\n          determine_threshold(adata, n = 2)[1],\\n          mt = True, max_mt_frac = 0.2)'"
      ]
     },
     "execution_count": 205,
     "metadata": {},
     "output_type": "execute_result"
    }
   ],
   "source": [
    "\"\"\"qc_count2 (adata_cov2,\n",
    "          determine_threshold(adata, n = 2)[0],\n",
    "          determine_threshold(adata, n = 2)[1],\n",
    "          mt = True, max_mt_frac = 0.2)\"\"\""
   ]
  },
  {
   "cell_type": "code",
   "execution_count": null,
   "id": "2ace3e71-9a61-45c6-a0cf-9d87bfb7008c",
   "metadata": {},
   "outputs": [],
   "source": []
  }
 ],
 "metadata": {
  "kernelspec": {
   "display_name": "Python 3 (ipykernel)",
   "language": "python",
   "name": "python3"
  },
  "language_info": {
   "codemirror_mode": {
    "name": "ipython",
    "version": 3
   },
   "file_extension": ".py",
   "mimetype": "text/x-python",
   "name": "python",
   "nbconvert_exporter": "python",
   "pygments_lexer": "ipython3",
   "version": "3.10.5"
  }
 },
 "nbformat": 4,
 "nbformat_minor": 5
}
