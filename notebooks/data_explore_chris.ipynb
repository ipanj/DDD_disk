{
 "cells": [
  {
   "cell_type": "markdown",
   "id": "6a975357-a4bf-4b46-a816-633249d746e2",
   "metadata": {},
   "source": [
    "# Data exploration"
   ]
  },
  {
   "cell_type": "code",
   "execution_count": 10,
   "id": "47431951-cdd2-4860-8a37-96bd190cd2b1",
   "metadata": {},
   "outputs": [],
   "source": [
    "import scanpy as sc\n",
    "import os "
   ]
  },
  {
   "cell_type": "markdown",
   "id": "db99dd94-3492-43b5-ae3c-6a50a9789081",
   "metadata": {},
   "source": [
    "Check the working directory"
   ]
  },
  {
   "cell_type": "code",
   "execution_count": 11,
   "id": "21f8776a-2af9-4afb-ba1b-7d2e8ae7e9da",
   "metadata": {},
   "outputs": [
    {
     "data": {
      "text/plain": [
       "'C:\\\\Users\\\\Nastavnik\\\\S3_project\\\\DDD_disk\\\\notebooks'"
      ]
     },
     "execution_count": 11,
     "metadata": {},
     "output_type": "execute_result"
    }
   ],
   "source": [
    "os.getcwd() #get current working directory"
   ]
  },
  {
   "cell_type": "code",
   "execution_count": 13,
   "id": "2e28b01c-e35a-4391-baf7-1fe49c972d38",
   "metadata": {},
   "outputs": [],
   "source": [
    "os.chdir('C:\\\\Users\\\\Nastavnik\\\\S3_project\\\\DDD_disk')"
   ]
  },
  {
   "cell_type": "code",
   "execution_count": 14,
   "id": "490f9acc-813e-4444-8ed3-670422493156",
   "metadata": {},
   "outputs": [
    {
     "name": "stderr",
     "output_type": "stream",
     "text": [
      "C:\\Users\\Nastavnik\\miniconda3\\envs\\sc_analysis\\lib\\site-packages\\scanpy\\readwrite.py:281: FutureWarning: X.dtype being converted to np.float32 from float64. In the next version of anndata (0.9) conversion will not be automatic. Pass dtype explicitly to avoid this warning. Pass `AnnData(X, dtype=X.dtype, ...)` to get the future behavour.\n",
      "  adata = AnnData(\n",
      "C:\\Users\\Nastavnik\\miniconda3\\envs\\sc_analysis\\lib\\site-packages\\anndata\\_core\\anndata.py:1830: UserWarning: Variable names are not unique. To make them unique, call `.var_names_make_unique`.\n",
      "  utils.warn_names_duplicates(\"var\")\n"
     ]
    }
   ],
   "source": [
    "adata = sc.read_10x_h5(\"data/nCoV_PBMC_1.h5\")"
   ]
  },
  {
   "cell_type": "code",
   "execution_count": 15,
   "id": "63885c95-1b2a-48c8-8e4a-352c761248c9",
   "metadata": {},
   "outputs": [
    {
     "data": {
      "text/plain": [
       "AnnData object with n_obs × n_vars = 1500 × 33538\n",
       "    var: 'gene_ids', 'feature_types', 'genome'"
      ]
     },
     "execution_count": 15,
     "metadata": {},
     "output_type": "execute_result"
    }
   ],
   "source": [
    "# print the content of the object (overview of what we have)\n",
    "adata"
   ]
  },
  {
   "cell_type": "markdown",
   "id": "c9c90a11-34c9-4040-ac80-a21305d22d57",
   "metadata": {},
   "source": [
    "Slicing the object (selecting cells of genes)\n",
    "adata_subset = adata[something that defines the rows , something that defines the columns]"
   ]
  },
  {
   "cell_type": "code",
   "execution_count": 20,
   "id": "eda0dfe4-3eb6-4110-bf34-7506ab2d84db",
   "metadata": {},
   "outputs": [],
   "source": [
    "adata_subset = adata[:100 , :] # selct first 100 cells and all genes"
   ]
  },
  {
   "cell_type": "code",
   "execution_count": 21,
   "id": "e1fb8930-3bd7-4b9d-ae80-7034ee4a5073",
   "metadata": {},
   "outputs": [
    {
     "data": {
      "text/plain": [
       "View of AnnData object with n_obs × n_vars = 100 × 33538\n",
       "    var: 'gene_ids', 'feature_types', 'genome'"
      ]
     },
     "execution_count": 21,
     "metadata": {},
     "output_type": "execute_result"
    }
   ],
   "source": [
    "adata_subset"
   ]
  },
  {
   "cell_type": "markdown",
   "id": "f1fc6881-df0a-4db2-b5c0-7522accbf66e",
   "metadata": {},
   "source": [
    "Accessing slots within the object"
   ]
  },
  {
   "cell_type": "code",
   "execution_count": 17,
   "id": "2292b6b5-e2cc-45f1-832c-305143d737a5",
   "metadata": {
    "collapsed": true,
    "jupyter": {
     "outputs_hidden": true
    },
    "tags": []
   },
   "outputs": [
    {
     "data": {
      "text/html": [
       "<div>\n",
       "<style scoped>\n",
       "    .dataframe tbody tr th:only-of-type {\n",
       "        vertical-align: middle;\n",
       "    }\n",
       "\n",
       "    .dataframe tbody tr th {\n",
       "        vertical-align: top;\n",
       "    }\n",
       "\n",
       "    .dataframe thead th {\n",
       "        text-align: right;\n",
       "    }\n",
       "</style>\n",
       "<table border=\"1\" class=\"dataframe\">\n",
       "  <thead>\n",
       "    <tr style=\"text-align: right;\">\n",
       "      <th></th>\n",
       "    </tr>\n",
       "  </thead>\n",
       "  <tbody>\n",
       "    <tr>\n",
       "      <th>AGGGTCCCATGACCCG-1</th>\n",
       "    </tr>\n",
       "    <tr>\n",
       "      <th>TACCCACAGCGGGTTA-1</th>\n",
       "    </tr>\n",
       "    <tr>\n",
       "      <th>CCCAACTTCATATGGC-1</th>\n",
       "    </tr>\n",
       "    <tr>\n",
       "      <th>TCAAGTGTCCGAACGC-1</th>\n",
       "    </tr>\n",
       "    <tr>\n",
       "      <th>ATTCCTAGTGACTGTT-1</th>\n",
       "    </tr>\n",
       "    <tr>\n",
       "      <th>...</th>\n",
       "    </tr>\n",
       "    <tr>\n",
       "      <th>ACTCCCAAGATGCGAC-1</th>\n",
       "    </tr>\n",
       "    <tr>\n",
       "      <th>AGTGCCGGTTGGTAGG-1</th>\n",
       "    </tr>\n",
       "    <tr>\n",
       "      <th>CCCATTGAGGCCCGTT-1</th>\n",
       "    </tr>\n",
       "    <tr>\n",
       "      <th>CAACGGCGTCGGCTAC-1</th>\n",
       "    </tr>\n",
       "    <tr>\n",
       "      <th>ATCACTTGTAGGCAAC-1</th>\n",
       "    </tr>\n",
       "  </tbody>\n",
       "</table>\n",
       "<p>1500 rows × 0 columns</p>\n",
       "</div>"
      ],
      "text/plain": [
       "Empty DataFrame\n",
       "Columns: []\n",
       "Index: [AGGGTCCCATGACCCG-1, TACCCACAGCGGGTTA-1, CCCAACTTCATATGGC-1, TCAAGTGTCCGAACGC-1, ATTCCTAGTGACTGTT-1, GTGTTCCGTGGGCTCT-1, CCTAAGACAGATTAAG-1, AATAGAGAGGGTTAGC-1, GGGTCACTCACCTACC-1, TCCTCTTGTACAGTCT-1, GAGATGGTCCGAGCTG-1, GGGTGAAGTTTACCTT-1, ACTACGATCCGAAATC-1, ATCGATGAGCAAGTCG-1, TTAGGCAAGGGCCCTT-1, AATGGAACACATACTG-1, CACTTCGGTAGATTAG-1, GGATCTATCTTACTGT-1, TGCAGATAGAATCCCT-1, CACGTGGAGAGGGTCT-1, AAAGGATCAAGACAAT-1, AGTGACTGTAGACTGG-1, AGAAGTACACATACTG-1, AGCGATTTCGTAGGAG-1, ACCCTCAGTGGTTCTA-1, TGTAGACAGCCTCAAT-1, GGGCCATTCAGCCTTC-1, TCACGGGTCGCAGTTA-1, CTCATCGAGATCGCCC-1, CTCCTCCAGACCATTC-1, CCTCAACTCATCGACA-1, GTTGCGGTCCAACCAA-1, ATGGTTGTCTCAATCT-1, CCACTTGTCATACGAC-1, GATCCCTGTAACAGTA-1, CATACTTTCGACATAC-1, CGGACACAGAACCGCA-1, ATTCCTACAATCGCAT-1, GTGACGCAGCCTGCCA-1, GGTGGCTAGCGAATGC-1, GTTCGCTTCAATCCGA-1, GTCATGACACGTGTGC-1, ATCACAGGTATCGCAT-1, CCTGTTGTCCGCAAAT-1, CATTGCCCAGAGGAAA-1, CGAGAAGGTTGCGGCT-1, CTCATGCTCGAGTCCG-1, TCTCTGGCACTGAATC-1, TCGCTTGAGATGTTCC-1, CACAGATAGACGATAT-1, ACGATGTAGGGTCTTT-1, AGTAACCAGAAACTGT-1, TCTGGCTCACCAGGTC-1, AAAGAACAGGAGAGGC-1, TGGGAAGTCGCCTCTA-1, TGGGCTGCAGATTTCG-1, TTGTGTTGTATAGCTC-1, TCTATACTCAAGCCCG-1, AGTGACTCAAGGAGTC-1, AGGCATTTCTAGAGCT-1, CACTGGGTCCACACAA-1, TGAGCATGTATTGGCT-1, GGATCTATCAGTGTCA-1, TGCCGAGGTCGTGGTC-1, CAAGACTAGACGGTTG-1, TAGTGCAGTGGTCCGT-1, ACCACAATCCGCACGA-1, TCAGCCTAGATGATTG-1, TGAGGTTCACACAGAG-1, ATAGAGACAGCTATAC-1, GGAGAACAGTTGTCAC-1, AGTGATCAGGGCTAAC-1, AACAAGAAGAGGGCGA-1, CAGGTATGTAGGAAAG-1, CTTCCTTTCAAACGAA-1, TCCGATCCACTTCAAG-1, CCGGTAGGTATACAGA-1, GGGAGATTCTGAGTCA-1, TTTCCTCTCACTGGTA-1, ATCGGCGTCTTGGAAC-1, ACGGTTATCTTTGATC-1, TGCTCGTTCCTCAGGG-1, AATCGACAGGAGAGTA-1, GAAGGGTCAACGCATT-1, GCCTGTTAGTCATAGA-1, ATTCCATTCCAACCGG-1, AGCCACGAGCCAAGCA-1, TGTCAGACATATGAAG-1, GTTGTGACAATATCCG-1, AGGCTGCTCAGTCTTT-1, GAACACTAGTGACCTT-1, AATGACCTCGAGAAGC-1, TCATTACTCAGTCCGG-1, AGACAAAGTCTTCCGT-1, TCGGATAGTCACTGAT-1, TTGCCTGTCCGAAGGA-1, TAGGAGGCACACGGAA-1, TCACATTAGCGCTGAA-1, CCGTTCACAGACACAG-1, AGTTCGAAGGAGAGGC-1, ...]\n",
       "\n",
       "[1500 rows x 0 columns]"
      ]
     },
     "execution_count": 17,
     "metadata": {},
     "output_type": "execute_result"
    }
   ],
   "source": [
    "adata.obs  # Additional information that refers to each cell"
   ]
  },
  {
   "cell_type": "code",
   "execution_count": 18,
   "id": "81ee0cf5-3b90-4cfb-809b-d92ad2297c39",
   "metadata": {
    "collapsed": true,
    "jupyter": {
     "outputs_hidden": true
    },
    "tags": []
   },
   "outputs": [
    {
     "data": {
      "text/html": [
       "<div>\n",
       "<style scoped>\n",
       "    .dataframe tbody tr th:only-of-type {\n",
       "        vertical-align: middle;\n",
       "    }\n",
       "\n",
       "    .dataframe tbody tr th {\n",
       "        vertical-align: top;\n",
       "    }\n",
       "\n",
       "    .dataframe thead th {\n",
       "        text-align: right;\n",
       "    }\n",
       "</style>\n",
       "<table border=\"1\" class=\"dataframe\">\n",
       "  <thead>\n",
       "    <tr style=\"text-align: right;\">\n",
       "      <th></th>\n",
       "      <th>gene_ids</th>\n",
       "      <th>feature_types</th>\n",
       "      <th>genome</th>\n",
       "    </tr>\n",
       "  </thead>\n",
       "  <tbody>\n",
       "    <tr>\n",
       "      <th>MIR1302-2HG</th>\n",
       "      <td>ENSG00000243485</td>\n",
       "      <td>Gene Expression</td>\n",
       "      <td>GRCh38</td>\n",
       "    </tr>\n",
       "    <tr>\n",
       "      <th>FAM138A</th>\n",
       "      <td>ENSG00000237613</td>\n",
       "      <td>Gene Expression</td>\n",
       "      <td>GRCh38</td>\n",
       "    </tr>\n",
       "    <tr>\n",
       "      <th>OR4F5</th>\n",
       "      <td>ENSG00000186092</td>\n",
       "      <td>Gene Expression</td>\n",
       "      <td>GRCh38</td>\n",
       "    </tr>\n",
       "    <tr>\n",
       "      <th>AL627309.1</th>\n",
       "      <td>ENSG00000238009</td>\n",
       "      <td>Gene Expression</td>\n",
       "      <td>GRCh38</td>\n",
       "    </tr>\n",
       "    <tr>\n",
       "      <th>AL627309.3</th>\n",
       "      <td>ENSG00000239945</td>\n",
       "      <td>Gene Expression</td>\n",
       "      <td>GRCh38</td>\n",
       "    </tr>\n",
       "    <tr>\n",
       "      <th>...</th>\n",
       "      <td>...</td>\n",
       "      <td>...</td>\n",
       "      <td>...</td>\n",
       "    </tr>\n",
       "    <tr>\n",
       "      <th>AC233755.2</th>\n",
       "      <td>ENSG00000277856</td>\n",
       "      <td>Gene Expression</td>\n",
       "      <td>GRCh38</td>\n",
       "    </tr>\n",
       "    <tr>\n",
       "      <th>AC233755.1</th>\n",
       "      <td>ENSG00000275063</td>\n",
       "      <td>Gene Expression</td>\n",
       "      <td>GRCh38</td>\n",
       "    </tr>\n",
       "    <tr>\n",
       "      <th>AC240274.1</th>\n",
       "      <td>ENSG00000271254</td>\n",
       "      <td>Gene Expression</td>\n",
       "      <td>GRCh38</td>\n",
       "    </tr>\n",
       "    <tr>\n",
       "      <th>AC213203.1</th>\n",
       "      <td>ENSG00000277475</td>\n",
       "      <td>Gene Expression</td>\n",
       "      <td>GRCh38</td>\n",
       "    </tr>\n",
       "    <tr>\n",
       "      <th>FAM231C</th>\n",
       "      <td>ENSG00000268674</td>\n",
       "      <td>Gene Expression</td>\n",
       "      <td>GRCh38</td>\n",
       "    </tr>\n",
       "  </tbody>\n",
       "</table>\n",
       "<p>33538 rows × 3 columns</p>\n",
       "</div>"
      ],
      "text/plain": [
       "                    gene_ids    feature_types  genome\n",
       "MIR1302-2HG  ENSG00000243485  Gene Expression  GRCh38\n",
       "FAM138A      ENSG00000237613  Gene Expression  GRCh38\n",
       "OR4F5        ENSG00000186092  Gene Expression  GRCh38\n",
       "AL627309.1   ENSG00000238009  Gene Expression  GRCh38\n",
       "AL627309.3   ENSG00000239945  Gene Expression  GRCh38\n",
       "...                      ...              ...     ...\n",
       "AC233755.2   ENSG00000277856  Gene Expression  GRCh38\n",
       "AC233755.1   ENSG00000275063  Gene Expression  GRCh38\n",
       "AC240274.1   ENSG00000271254  Gene Expression  GRCh38\n",
       "AC213203.1   ENSG00000277475  Gene Expression  GRCh38\n",
       "FAM231C      ENSG00000268674  Gene Expression  GRCh38\n",
       "\n",
       "[33538 rows x 3 columns]"
      ]
     },
     "execution_count": 18,
     "metadata": {},
     "output_type": "execute_result"
    }
   ],
   "source": [
    "adata.var  # Additional information for each gene"
   ]
  },
  {
   "cell_type": "code",
   "execution_count": 19,
   "id": "dee6d56a-dfff-4a13-ac1a-9a90e4fc1644",
   "metadata": {},
   "outputs": [
    {
     "data": {
      "text/plain": [
       "AxisArrays with keys: "
      ]
     },
     "execution_count": 19,
     "metadata": {},
     "output_type": "execute_result"
    }
   ],
   "source": [
    "adata.obsm   # Additional information for each cell but as a full table / data matrix"
   ]
  },
  {
   "cell_type": "code",
   "execution_count": 22,
   "id": "6d9d638e-ab8a-42d5-9eb4-6b03034484cb",
   "metadata": {},
   "outputs": [
    {
     "data": {
      "text/plain": [
       "OverloadedDict, wrapping:\n",
       "\tOrderedDict()\n",
       "With overloaded keys:\n",
       "\t['neighbors']."
      ]
     },
     "execution_count": 22,
     "metadata": {},
     "output_type": "execute_result"
    }
   ],
   "source": [
    "adata.uns   # Additional unstructured information"
   ]
  },
  {
   "cell_type": "code",
   "execution_count": null,
   "id": "8a84adb9-10d4-4b3f-b263-2065a60d096a",
   "metadata": {},
   "outputs": [],
   "source": []
  },
  {
   "cell_type": "code",
   "execution_count": null,
   "id": "860b77db-a16f-41e2-94f4-cc2a03ca8ce4",
   "metadata": {},
   "outputs": [],
   "source": []
  },
  {
   "cell_type": "code",
   "execution_count": null,
   "id": "ae30a83a-a29d-4576-be74-9bc7dff583fd",
   "metadata": {},
   "outputs": [],
   "source": []
  },
  {
   "cell_type": "code",
   "execution_count": null,
   "id": "1141a99f-04fe-4982-9400-0bbf271fd6c2",
   "metadata": {},
   "outputs": [],
   "source": [
    "Printing the object: adata\n",
    "Slicing the object: adata[rows, columns]\n",
    "Working on specific slots in the object:\n",
    "Adding data to adata.obs / adata.uns / adata.obsm\n"
   ]
  },
  {
   "cell_type": "markdown",
   "id": "b12b13bd-a746-43d1-aebc-eb0240d7e831",
   "metadata": {},
   "source": [
    "n_obs: number of observation, number of cells, rows\n",
    "n_vars: number of vbariables,  number of genes, columns"
   ]
  }
 ],
 "metadata": {
  "kernelspec": {
   "display_name": "Python 3 (ipykernel)",
   "language": "python",
   "name": "python3"
  },
  "language_info": {
   "codemirror_mode": {
    "name": "ipython",
    "version": 3
   },
   "file_extension": ".py",
   "mimetype": "text/x-python",
   "name": "python",
   "nbconvert_exporter": "python",
   "pygments_lexer": "ipython3",
   "version": "3.10.5"
  }
 },
 "nbformat": 4,
 "nbformat_minor": 5
}
